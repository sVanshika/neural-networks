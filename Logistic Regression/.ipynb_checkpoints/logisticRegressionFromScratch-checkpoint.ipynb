{
 "cells": [
  {
   "cell_type": "markdown",
   "id": "045b38c6",
   "metadata": {},
   "source": [
    "# Logistic Regression From Scratch"
   ]
  },
  {
   "cell_type": "markdown",
   "id": "c8aa081a",
   "metadata": {},
   "source": [
    "## Importing Libraries"
   ]
  },
  {
   "cell_type": "code",
   "execution_count": 2,
   "id": "995df2b6",
   "metadata": {},
   "outputs": [],
   "source": [
    "import numpy as np\n",
    "import matplotlib.pyplot as plt\n",
    "import h5py"
   ]
  },
  {
   "cell_type": "markdown",
   "id": "911af337",
   "metadata": {},
   "source": [
    "## Data Preprocessing"
   ]
  },
  {
   "cell_type": "markdown",
   "id": "1d997d8c",
   "metadata": {},
   "source": [
    "### Loading Dataset "
   ]
  },
  {
   "cell_type": "code",
   "execution_count": 63,
   "id": "85ced44e",
   "metadata": {},
   "outputs": [],
   "source": [
    "train = h5py.File('data/train_catvnoncat.h5', \"r\")\n",
    "test = h5py.File('data/test_catvnoncat.h5', \"r\")\n",
    "classes = np.array(test_dataset[\"list_classes\"][:]) # the list of classes"
   ]
  },
  {
   "cell_type": "markdown",
   "id": "a8df54cf",
   "metadata": {},
   "source": [
    "The group name in the train.h5 file is \"train_set_x\" and \"train_set_y\"\n",
    "\n",
    "The group name in the test.h5 file is \"test_set_x\" and \"test_set_y\""
   ]
  },
  {
   "cell_type": "code",
   "execution_count": 69,
   "id": "b7acf872",
   "metadata": {},
   "outputs": [],
   "source": [
    "x_train = np.array(train[\"train_set_x\"]) \n",
    "y_train = np.array(train[\"train_set_y\"]) \n",
    "\n",
    "x_test = np.array(test[\"test_set_x\"]) \n",
    "y_test = np.array(test[\"test_set_y\"]) "
   ]
  },
  {
   "cell_type": "code",
   "execution_count": 60,
   "id": "2b428d20",
   "metadata": {},
   "outputs": [
    {
     "name": "stdout",
     "output_type": "stream",
     "text": [
      "y = [0]\n"
     ]
    },
    {
     "data": {
      "image/png": "[encoded data removed]",
      "text/plain": [
       "<Figure size 432x288 with 1 Axes>"
      ]
     },
     "metadata": {
      "needs_background": "light"
     },
     "output_type": "display_data"
    }
   ],
   "source": [
    "# generating random index \n",
    "index = np.random.randint(len(x_train))\n",
    "\n",
    "# finding label of the image\n",
    "imgClass = y_train[index]\n",
    "print(\"y =\" ,imgClass)\n",
    "\n",
    "#plotting image\n",
    "plt.imshow(x_train[index])\n",
    "plt.show()"
   ]
  },
  {
   "cell_type": "code",
   "execution_count": 24,
   "id": "08b60762",
   "metadata": {},
   "outputs": [
    {
     "name": "stdout",
     "output_type": "stream",
     "text": [
      "Shape of training data features: (209, 64, 64, 3)\n",
      "Shape of training data label: (209,)\n",
      "Shape of testing data features: (50, 64, 64, 3)\n",
      "Shape of testing data label: (50,)\n"
     ]
    }
   ],
   "source": [
    "print(\"Shape of training data features:\", x_train.shape)\n",
    "print(\"Shape of training data label:\", y_train.shape)\n",
    "print(\"Shape of testing data features:\", x_test.shape)\n",
    "print(\"Shape of testing data label:\", y_test.shape)"
   ]
  },
  {
   "cell_type": "markdown",
   "id": "26e7414d",
   "metadata": {},
   "source": [
    "**Note**: Label of training data and testing data is a *Rank1 Array*. So, we have to convert it into row vector"
   ]
  },
  {
   "cell_type": "code",
   "execution_count": 70,
   "id": "6dfdd690",
   "metadata": {},
   "outputs": [],
   "source": [
    "y_train = y_train.reshape(1, -1)\n",
    "y_test = y_test.reshape(1, -1)"
   ]
  },
  {
   "cell_type": "code",
   "execution_count": 71,
   "id": "05882898",
   "metadata": {},
   "outputs": [
    {
     "name": "stdout",
     "output_type": "stream",
     "text": [
      "Shape of training data features: (209, 64, 64, 3)\n",
      "Shape of training data label: (1, 209)\n",
      "Shape of testing data features: (50, 64, 64, 3)\n",
      "Shape of testing data label: (1, 50)\n"
     ]
    }
   ],
   "source": [
    "print(\"Shape of training data features:\", x_train.shape)\n",
    "print(\"Shape of training data label:\", y_train.shape)\n",
    "print(\"Shape of testing data features:\", x_test.shape)\n",
    "print(\"Shape of testing data label:\", y_test.shape)"
   ]
  },
  {
   "cell_type": "markdown",
   "id": "782e1cfc",
   "metadata": {},
   "source": [
    "### Flattening data\n",
    "The neural network does not accept the data in any format.\n",
    "\n",
    "Here, the input data must be a vector of shape (m, n). \n",
    "\n",
    "Where m = training examples, n = length of image x breadth of image x 3\n",
    "\n",
    "An image will be a matrix of shape (length x breadth). Now, as it is colored images, there will 3 matrices per image denoting colors RGB. Thus, we have to convert all these 3 matrices to a single column vector"
   ]
  },
  {
   "cell_type": "code",
   "execution_count": 72,
   "id": "b997153a",
   "metadata": {},
   "outputs": [],
   "source": [
    "x_train = x_train.reshape(x_train.shape[1]*x_train.shape[2]*x_train.shape[3], x_train.shape[0])\n",
    "x_test = x_test.reshape(x_test.shape[1]*x_test.shape[2]*x_test.shape[3], x_test.shape[0])"
   ]
  },
  {
   "cell_type": "code",
   "execution_count": 73,
   "id": "3deac0c4",
   "metadata": {},
   "outputs": [
    {
     "name": "stdout",
     "output_type": "stream",
     "text": [
      "Shape of x_train: (12288, 209)\n",
      "Shape of x_test: (12288, 50)\n",
      "Shape of y_train: (1, 209)\n",
      "Shape of y_test: (1, 50)\n"
     ]
    }
   ],
   "source": [
    "print(\"Shape of x_train:\", x_train.shape)\n",
    "print(\"Shape of x_test:\", x_test.shape)\n",
    "print(\"Shape of y_train:\", y_train.shape)\n",
    "print(\"Shape of y_test:\", y_test.shape)"
   ]
  },
  {
   "cell_type": "markdown",
   "id": "4fbf20ee",
   "metadata": {},
   "source": [
    "## Helper Functions"
   ]
  },
  {
   "cell_type": "markdown",
   "id": "08649578",
   "metadata": {},
   "source": [
    "### Sigmoid\n",
    "Calculating sigmoid of a value\n",
    "\n",
    "$sigmoid(z) = \\frac{1}{1 + e^{-z}}$ "
   ]
  },
  {
   "cell_type": "code",
   "execution_count": 77,
   "id": "b6fc5b8a",
   "metadata": {},
   "outputs": [],
   "source": [
    "def sigmoid(z):\n",
    "    s = 1/(1 + np.exp(-z))\n",
    "    return s"
   ]
  },
  {
   "cell_type": "code",
   "execution_count": 79,
   "id": "e0c93e74",
   "metadata": {},
   "outputs": [
    {
     "name": "stdout",
     "output_type": "stream",
     "text": [
      "sigmoid([0, 2]) =  [0.5        0.88079708]\n"
     ]
    }
   ],
   "source": [
    "print(\"sigmoid([0, 2]) = \" , sigmoid(np.array([0,2])))"
   ]
  },
  {
   "cell_type": "markdown",
   "id": "24d888a1",
   "metadata": {},
   "source": [
    "### Initialize"
   ]
  },
  {
   "cell_type": "code",
   "execution_count": null,
   "id": "dd48a65e",
   "metadata": {},
   "outputs": [],
   "source": []
  },
  {
   "cell_type": "markdown",
   "id": "7bf313e2",
   "metadata": {},
   "source": [
    "### Forward & Backward propagation"
   ]
  },
  {
   "cell_type": "code",
   "execution_count": null,
   "id": "8bd391ca",
   "metadata": {},
   "outputs": [],
   "source": []
  },
  {
   "cell_type": "markdown",
   "id": "f5eb31e6",
   "metadata": {},
   "source": [
    "### Gradient Descent"
   ]
  },
  {
   "cell_type": "code",
   "execution_count": null,
   "id": "cc09d572",
   "metadata": {},
   "outputs": [],
   "source": []
  },
  {
   "cell_type": "markdown",
   "id": "076e36e2",
   "metadata": {},
   "source": [
    "### Prediction"
   ]
  },
  {
   "cell_type": "code",
   "execution_count": null,
   "id": "63c16317",
   "metadata": {},
   "outputs": [],
   "source": []
  },
  {
   "cell_type": "markdown",
   "id": "373812d7",
   "metadata": {},
   "source": [
    "## Merging functions into one "
   ]
  }
 ],
 "metadata": {
  "kernelspec": {
   "display_name": "Python 3 (ipykernel)",
   "language": "python",
   "name": "python3"
  },
  "language_info": {
   "codemirror_mode": {
    "name": "ipython",
    "version": 3
   },
   "file_extension": ".py",
   "mimetype": "text/x-python",
   "name": "python",
   "nbconvert_exporter": "python",
   "pygments_lexer": "ipython3",
   "version": "3.8.10"
  }
 },
 "nbformat": 4,
 "nbformat_minor": 5
}
